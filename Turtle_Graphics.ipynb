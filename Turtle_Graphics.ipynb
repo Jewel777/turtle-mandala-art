{
 "cells": [
  {
   "cell_type": "code",
   "execution_count": null,
   "id": "d52324d1",
   "metadata": {},
   "outputs": [],
   "source": [
    "from turtle import*\n",
    "bgcolor('black');pencolor('white');speed(1000)\n",
    "fillcolor('blue')\n",
    "begin_fill()\n",
    "for i in range(1,73):\n",
    "        circle(50)\n",
    "        left(5);\n",
    "end_fill()\n",
    "pencolor('pink')\n",
    "penup();goto(0,100);pendown()\n",
    "for i in range (1,73):\n",
    "    circle(50)\n",
    "    left(5);\n",
    "pencolor('gold')\n",
    "penup();goto(0,-100);pendown()\n",
    "for i in range(1,73):\n",
    "    circle(50)\n",
    "    left(5);\n",
    "pencolor('red')\n",
    "penup();goto(100,0);pendown()\n",
    "for i in range(1,73):\n",
    "    circle(50)\n",
    "    left(5);\n",
    "pencolor('green')\n",
    "penup();goto(-100,0);pendown()\n",
    "for i in range(1,73):\n",
    "    circle(50)\n",
    "    left(5);\n",
    "home();pencolor('white')\n",
    "for i in range(1,73):\n",
    "    circle(100)\n",
    "    left(50)\n",
    "done()"
   ]
  },
  {
   "cell_type": "code",
   "execution_count": null,
   "id": "8dd2b229",
   "metadata": {},
   "outputs": [],
   "source": []
  }
 ],
 "metadata": {
  "kernelspec": {
   "display_name": "Python 3 (ipykernel)",
   "language": "python",
   "name": "python3"
  },
  "language_info": {
   "codemirror_mode": {
    "name": "ipython",
    "version": 3
   },
   "file_extension": ".py",
   "mimetype": "text/x-python",
   "name": "python",
   "nbconvert_exporter": "python",
   "pygments_lexer": "ipython3",
   "version": "3.11.5"
  }
 },
 "nbformat": 4,
 "nbformat_minor": 5
}
